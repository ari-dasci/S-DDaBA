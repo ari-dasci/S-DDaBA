{
 "cells": [
  {
   "cell_type": "markdown",
   "metadata": {},
   "source": [
    "# Dynamic Defense Against Byzantine Poisoning Attacks in Federated Learning\n",
    "\n",
    "In this notebook we provide the implemetation of the averaging mechanism DDaBA, presented in [this paper](). We also provide a simple example of how to use it in a federated environment. We use [EMNIST Digits](https://www.nist.gov/itl/products-and-services/emnist-dataset) dataset, a popular dataset for the experiments. We federate the data following an I.I.D. distribution over 20 nodes (clients).\n",
    "\n",
    "### Data reading"
   ]
  },
  {
   "cell_type": "code",
   "execution_count": 1,
   "metadata": {
    "pycharm": {
     "is_executing": false
    }
   },
   "outputs": [],
   "source": [
    "import warnings\n",
    "warnings.filterwarnings('ignore')\n",
    "\n",
    "import matplotlib.pyplot as plt\n",
    "import shfl\n",
    "\n",
    "database = shfl.data_base.Emnist()\n",
    "train_data, train_labels, test_data, test_label = database.load_data()"
   ]
  },
  {
   "cell_type": "code",
   "execution_count": 2,
   "metadata": {
    "pycharm": {
     "is_executing": false
    }
   },
   "outputs": [],
   "source": [
    "iid_distribution = shfl.data_distribution.IidDataDistribution(database)\n",
    "federated_data, test_data, test_labels = iid_distribution.get_federated_data(num_nodes=20, percent=100)"
   ]
  },
  {
   "cell_type": "markdown",
   "metadata": {},
   "source": [
    "We reshape training and test data in order to fit the required shape. For reshaping the federated data, we use the class FederatedTransformation. "
   ]
  },
  {
   "cell_type": "code",
   "execution_count": 3,
   "metadata": {},
   "outputs": [],
   "source": [
    "import numpy as np\n",
    "\n",
    "class Reshape(shfl.private.FederatedTransformation):\n",
    "    \n",
    "    def apply(self, labeled_data):\n",
    "        labeled_data.data = np.reshape(labeled_data.data, (labeled_data.data.shape[0], labeled_data.data.shape[1], labeled_data.data.shape[2],1))\n",
    "        \n",
    "shfl.private.federated_operation.apply_federated_transformation(federated_data, Reshape())\n",
    "\n",
    "test_data = np.reshape(test_data, (test_data.shape[0], test_data.shape[1], test_data.shape[2],1))"
   ]
  },
  {
   "cell_type": "markdown",
   "metadata": {},
   "source": [
    "### Deep Learning model\n",
    "\n",
    "We use a simple deep learning model based on two layers of CNN implemented in Keras."
   ]
  },
  {
   "cell_type": "code",
   "execution_count": 4,
   "metadata": {
    "pycharm": {
     "is_executing": false
    }
   },
   "outputs": [],
   "source": [
    "import tensorflow as tf\n",
    "\n",
    "def model_builder():\n",
    "    model = tf.keras.models.Sequential()\n",
    "    model.add(tf.keras.layers.Conv2D(32, kernel_size=(3, 3), padding='same', activation='relu', strides=1, input_shape=(28, 28, 1)))\n",
    "    model.add(tf.keras.layers.MaxPooling2D(pool_size=2, strides=2, padding='valid'))\n",
    "    model.add(tf.keras.layers.Dropout(0.4))\n",
    "    model.add(tf.keras.layers.Conv2D(32, kernel_size=(3, 3), padding='same', activation='relu', strides=1))\n",
    "    model.add(tf.keras.layers.MaxPooling2D(pool_size=2, strides=2, padding='valid'))\n",
    "    model.add(tf.keras.layers.Dropout(0.3))\n",
    "    model.add(tf.keras.layers.Flatten())\n",
    "    model.add(tf.keras.layers.Dense(128, activation='relu'))\n",
    "    model.add(tf.keras.layers.Dropout(0.1))\n",
    "    model.add(tf.keras.layers.Dense(64, activation='relu'))\n",
    "    model.add(tf.keras.layers.Dense(10, activation='softmax'))\n",
    "\n",
    "    model.compile(optimizer=\"rmsprop\", loss=\"categorical_crossentropy\", metrics=[\"accuracy\"])\n",
    "    \n",
    "    return shfl.model.DeepLearningModel(model)"
   ]
  },
  {
   "cell_type": "markdown",
   "metadata": {},
   "source": [
    "### Federated Aggregator: DDaBA\n",
    "\n",
    "In this point, we provide the implementation of the DDaBA aggregation mechanism. For that purpose, we overwrite the implementation of the FedAvg aggregator in [ddaba.py](./ddaba.py) and the implementation of the federated government  in [ddaba_fedeerated_gov.py](./ddaba_federated_gov.py).\n"
   ]
  },
  {
   "cell_type": "code",
   "execution_count": 5,
   "metadata": {
    "pycharm": {
     "is_executing": false
    }
   },
   "outputs": [],
   "source": [
    "from ddaba import DDaBA\n",
    "from ddaba_federated_gov import DDaBAFederatedGovernment\n",
    "\n",
    "aggregator = DDaBA()\n",
    "federated_government = DDaBAFederatedGovernment(model_builder, federated_data, aggregator)"
   ]
  },
  {
   "cell_type": "markdown",
   "metadata": {},
   "source": [
    "### Run the federated algorithm\n",
    "\n",
    "Finally, we run 10 rounds of learning."
   ]
  },
  {
   "cell_type": "code",
   "execution_count": 6,
   "metadata": {
    "pycharm": {
     "is_executing": true
    }
   },
   "outputs": [
    {
     "name": "stdout",
     "output_type": "stream",
     "text": [
      "Accuracy round 0\n",
      "[0.         0.000875   0.0025     0.0025     0.00325    0.00337499\n",
      " 0.00449997 0.00512499 0.00787497 0.00874996 0.009      0.01187497\n",
      " 0.01262498 0.013125   0.014      0.01674998 0.01725    0.01749998\n",
      " 0.01999998 0.02375001]\n",
      "0.1\n",
      "1.0\n",
      "[0.09090909 0.09090909 0.04545455 0.04545455 0.04545455 0.04545455\n",
      " 0.04545455 0.04545455 0.04545455 0.04545455 0.04545455 0.04545455\n",
      " 0.04545455 0.04545455 0.04545455 0.04545455 0.04545455 0.04545455\n",
      " 0.04545455 0.04545455]\n",
      "\n",
      "Evaluating global task:\n",
      "Global model test performance : [0.7090490460395813, 0.899218738079071]\n",
      "\n",
      "\n",
      "\n",
      "Accuracy round 1\n",
      "[0.         0.000875   0.00099999 0.00150001 0.00187498 0.00187498\n",
      " 0.00299996 0.00449997 0.00462496 0.00462496 0.004875   0.00674999\n",
      " 0.00762498 0.00762498 0.00762498 0.00787497 0.00799996 0.00924999\n",
      " 0.00999999 0.01875001]\n",
      "0.05\n",
      "0.95\n",
      "[0.1  0.05 0.05 0.05 0.05 0.05 0.05 0.05 0.05 0.05 0.05 0.05 0.05 0.05\n",
      " 0.05 0.05 0.05 0.05 0.05 0.  ]\n",
      "\n",
      "Evaluating global task:\n",
      "Global model test performance : [0.11621325463056564, 0.9715937376022339]\n",
      "\n",
      "\n",
      "\n",
      "Accuracy round 2\n",
      "[0.         0.00012499 0.00199997 0.00262499 0.00325    0.00437498\n",
      " 0.00462502 0.005      0.00524998 0.00599998 0.00674999 0.00762498\n",
      " 0.00774997 0.009875   0.00999999 0.01112497 0.01137501 0.01187497\n",
      " 0.01212502 0.01762497]\n",
      "0.1\n",
      "1.0\n",
      "[0.09090909 0.09090909 0.04545455 0.04545455 0.04545455 0.04545455\n",
      " 0.04545455 0.04545455 0.04545455 0.04545455 0.04545455 0.04545455\n",
      " 0.04545455 0.04545455 0.04545455 0.04545455 0.04545455 0.04545455\n",
      " 0.04545455 0.04545455]\n",
      "\n",
      "Evaluating global task:\n",
      "Global model test performance : [0.07790808379650116, 0.980218768119812]\n",
      "\n",
      "\n",
      "\n",
      "Accuracy round 3\n",
      "[0.         0.001625   0.00175005 0.00312501 0.00337505 0.00437504\n",
      " 0.00437504 0.00437504 0.00450003 0.00462502 0.00562501 0.00637501\n",
      " 0.00637501 0.00650001 0.00750005 0.00800002 0.009875   0.0115\n",
      " 0.01287502 0.01337504]\n",
      "0.05\n",
      "1.0\n",
      "[0.0952381  0.04761905 0.04761905 0.04761905 0.04761905 0.04761905\n",
      " 0.04761905 0.04761905 0.04761905 0.04761905 0.04761905 0.04761905\n",
      " 0.04761905 0.04761905 0.04761905 0.04761905 0.04761905 0.04761905\n",
      " 0.04761905 0.04761905]\n",
      "\n",
      "Evaluating global task:\n",
      "Global model test performance : [0.06707223504781723, 0.984000027179718]\n",
      "\n",
      "\n",
      "\n",
      "Accuracy round 4\n",
      "[0.         0.00099999 0.00187498 0.00199997 0.00287503 0.00349998\n",
      " 0.00400001 0.004125   0.00424999 0.004875   0.005      0.00512499\n",
      " 0.00537503 0.00575    0.00575    0.00599998 0.00625002 0.00625002\n",
      " 0.00962502 0.01275003]\n",
      "0.05\n",
      "1.0\n",
      "[0.0952381  0.04761905 0.04761905 0.04761905 0.04761905 0.04761905\n",
      " 0.04761905 0.04761905 0.04761905 0.04761905 0.04761905 0.04761905\n",
      " 0.04761905 0.04761905 0.04761905 0.04761905 0.04761905 0.04761905\n",
      " 0.04761905 0.04761905]\n",
      "\n",
      "Evaluating global task:\n",
      "Global model test performance : [0.05585865303874016, 0.9862812757492065]\n",
      "\n",
      "\n",
      "\n",
      "Accuracy round 5\n",
      "[0.         0.00087506 0.00175005 0.00175005 0.00187504 0.00212502\n",
      " 0.00237501 0.00287503 0.00300002 0.00312501 0.00387502 0.00475001\n",
      " 0.004875   0.00537503 0.00625002 0.00775003 0.00775003 0.00775003\n",
      " 0.01137501 0.01850003]\n",
      "0.05\n",
      "0.95\n",
      "[0.1  0.05 0.05 0.05 0.05 0.05 0.05 0.05 0.05 0.05 0.05 0.05 0.05 0.05\n",
      " 0.05 0.05 0.05 0.05 0.05 0.  ]\n",
      "\n",
      "Evaluating global task:\n",
      "Global model test performance : [0.05092736706137657, 0.9878125190734863]\n",
      "\n",
      "\n",
      "\n",
      "Accuracy round 6\n",
      "[0.         0.001625   0.00187498 0.00187498 0.00212502 0.00212502\n",
      " 0.00212502 0.00225002 0.0025     0.00274998 0.00274998 0.00400001\n",
      " 0.00400001 0.00437498 0.00449997 0.00475001 0.00587499 0.00937498\n",
      " 0.01174998 0.01349998]\n",
      "0.05\n",
      "0.95\n",
      "[0.1  0.05 0.05 0.05 0.05 0.05 0.05 0.05 0.05 0.05 0.05 0.05 0.05 0.05\n",
      " 0.05 0.05 0.05 0.05 0.05 0.  ]\n",
      "\n",
      "Evaluating global task:\n",
      "Global model test performance : [0.04910089448094368, 0.988531231880188]\n",
      "\n",
      "\n",
      "\n",
      "Accuracy round 7\n",
      "[0.         0.000875   0.00112504 0.00125003 0.00125003 0.001625\n",
      " 0.00175005 0.00187504 0.00200003 0.00225002 0.00237501 0.00237501\n",
      " 0.00300002 0.00400001 0.004875   0.00537503 0.00587505 0.00612503\n",
      " 0.007375   0.01137501]\n",
      "0.05\n",
      "0.95\n",
      "[0.1  0.05 0.05 0.05 0.05 0.05 0.05 0.05 0.05 0.05 0.05 0.05 0.05 0.05\n",
      " 0.05 0.05 0.05 0.05 0.05 0.  ]\n",
      "\n",
      "Evaluating global task:\n",
      "Global model test performance : [0.048101622611284256, 0.9885625243186951]\n",
      "\n",
      "\n",
      "\n",
      "Accuracy round 8\n",
      "[0.         0.00049996 0.00062501 0.000875   0.00124997 0.00137502\n",
      " 0.00150001 0.00174999 0.00187498 0.00225002 0.00225002 0.00337499\n",
      " 0.00337499 0.00349998 0.00462496 0.00512499 0.00550002 0.00575\n",
      " 0.01024997 0.01024997]\n",
      "0.05\n",
      "0.9\n",
      "[0.10526316 0.05263158 0.05263158 0.05263158 0.05263158 0.05263158\n",
      " 0.05263158 0.05263158 0.05263158 0.05263158 0.05263158 0.05263158\n",
      " 0.05263158 0.05263158 0.05263158 0.05263158 0.05263158 0.05263158\n",
      " 0.         0.        ]\n",
      "\n",
      "Evaluating global task:\n",
      "Global model test performance : [0.04725993424654007, 0.9894062280654907]\n",
      "\n",
      "\n",
      "\n",
      "Accuracy round 9\n",
      "[0.         0.         0.00012499 0.00012499 0.00062495 0.00062495\n",
      " 0.00074995 0.000875   0.00112498 0.00137496 0.00212497 0.00237495\n",
      " 0.00262499 0.00387496 0.00462496 0.00687498 0.007375   0.00787497\n",
      " 0.00849998 0.01162499]\n",
      "0.2\n",
      "0.95\n",
      "[0.08695652 0.08695652 0.08695652 0.08695652 0.04347826 0.04347826\n",
      " 0.04347826 0.04347826 0.04347826 0.04347826 0.04347826 0.04347826\n",
      " 0.04347826 0.04347826 0.04347826 0.04347826 0.04347826 0.04347826\n",
      " 0.04347826 0.        ]\n",
      "\n",
      "Evaluating global task:\n",
      "Global model test performance : [0.04337694123387337, 0.9897187352180481]\n",
      "\n",
      "\n",
      "\n"
     ]
    },
    {
     "data": {
      "text/plain": [
       "[[0.7090490460395813, 0.899218738079071],\n",
       " [0.11621325463056564, 0.9715937376022339],\n",
       " [0.07790808379650116, 0.980218768119812],\n",
       " [0.06707223504781723, 0.984000027179718],\n",
       " [0.05585865303874016, 0.9862812757492065],\n",
       " [0.05092736706137657, 0.9878125190734863],\n",
       " [0.04910089448094368, 0.988531231880188],\n",
       " [0.048101622611284256, 0.9885625243186951],\n",
       " [0.04725993424654007, 0.9894062280654907],\n",
       " [0.04337694123387337, 0.9897187352180481]]"
      ]
     },
     "execution_count": 6,
     "metadata": {},
     "output_type": "execute_result"
    }
   ],
   "source": [
    "federated_government.run_rounds(10, test_data, test_label)"
   ]
  },
  {
   "cell_type": "code",
   "execution_count": null,
   "metadata": {},
   "outputs": [],
   "source": []
  }
 ],
 "metadata": {
  "kernelspec": {
   "display_name": "Python 3",
   "language": "python",
   "name": "python3"
  },
  "language_info": {
   "codemirror_mode": {
    "name": "ipython",
    "version": 3
   },
   "file_extension": ".py",
   "mimetype": "text/x-python",
   "name": "python",
   "nbconvert_exporter": "python",
   "pygments_lexer": "ipython3",
   "version": "3.8.8"
  },
  "pycharm": {
   "stem_cell": {
    "cell_type": "raw",
    "metadata": {
     "collapsed": false
    },
    "source": []
   }
  }
 },
 "nbformat": 4,
 "nbformat_minor": 4
}
